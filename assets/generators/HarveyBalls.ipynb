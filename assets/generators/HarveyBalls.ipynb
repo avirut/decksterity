{
 "cells": [
  {
   "cell_type": "markdown",
   "metadata": {},
   "source": [
    "Code sourced from https://github.com/emorisse/HarveyBalls, used for icon generation with modifications to remove border / whitespace around saved Harvey ball images completely"
   ]
  },
  {
   "cell_type": "code",
   "execution_count": 39,
   "metadata": {
    "tags": []
   },
   "outputs": [],
   "source": [
    "import matplotlib.pyplot as plt\n",
    "import matplotlib.path as mpath\n",
    "import matplotlib.patches as mpatches\n",
    "import re\n",
    "import numpy as np"
   ]
  },
  {
   "cell_type": "code",
   "execution_count": 40,
   "metadata": {
    "tags": []
   },
   "outputs": [],
   "source": [
    "color = \"black\"\n",
    "colors = [ color, color ]\n",
    "\n",
    "sets = [0, 0.25, 0.5, 0.75, 1, 0.33333333333]"
   ]
  },
  {
   "cell_type": "code",
   "execution_count": 41,
   "metadata": {
    "tags": []
   },
   "outputs": [],
   "source": [
    "def cutwedge(wedge, r=0.95):\n",
    "    path = wedge.get_path()\n",
    "    verts = path.vertices[:-3]\n",
    "    codes = path.codes[:-3]\n",
    "    new_verts = np.vstack((verts , verts[::-1]*r, verts[0,:]))\n",
    "    new_codes =  np.concatenate((codes , codes[::-1], np.array([79])) )\n",
    "    new_codes[len(codes)] = 2\n",
    "    new_path = mpath.Path(new_verts, new_codes)\n",
    "    new_patch = mpatches.PathPatch(new_path)\n",
    "    new_patch.update_from(wedge)\n",
    "    wedge.set_visible(False)\n",
    "    wedge.axes.add_patch(new_patch)\n",
    "    return new_patch"
   ]
  },
  {
   "cell_type": "code",
   "execution_count": 42,
   "metadata": {
    "tags": []
   },
   "outputs": [],
   "source": [
    "for n in sets:\n",
    "    fig, ax = plt.subplots(figsize=(4, 4), dpi=100)  # Ensure it's square\n",
    "    sizes = [n, 1 - n]\n",
    "    perc = re.sub(r\"\\.\", \"\", \"%0.2f\" % n) + \"-\" + color + \".png\"\n",
    "    wedges, text = ax.pie(\n",
    "        sizes, \n",
    "        colors=colors, \n",
    "        startangle=90, \n",
    "        counterclock=False, \n",
    "        wedgeprops=dict(linewidth=0)  # Optional: remove wedge borders\n",
    "    )\n",
    "\n",
    "    cutwedge(wedges[1])\n",
    "\n",
    "    plt.axis('equal')  # Keep the pie circular\n",
    "    plt.subplots_adjust(left=0, right=1, top=1, bottom=0)  # Remove subplot margins\n",
    "    plt.margins(0)  # No margins\n",
    "\n",
    "    plt.savefig(perc, bbox_inches='tight', pad_inches=0, transparent=True, dpi=37.5)\n",
    "    plt.close()"
   ]
  },
  {
   "cell_type": "code",
   "execution_count": null,
   "metadata": {},
   "outputs": [],
   "source": []
  }
 ],
 "metadata": {
  "kernelspec": {
   "display_name": "Python 3 (ipykernel)",
   "language": "python",
   "name": "python3"
  },
  "language_info": {
   "codemirror_mode": {
    "name": "ipython",
    "version": 3
   },
   "file_extension": ".py",
   "mimetype": "text/x-python",
   "name": "python",
   "nbconvert_exporter": "python",
   "pygments_lexer": "ipython3",
   "version": "3.10.9"
  }
 },
 "nbformat": 4,
 "nbformat_minor": 4
}
