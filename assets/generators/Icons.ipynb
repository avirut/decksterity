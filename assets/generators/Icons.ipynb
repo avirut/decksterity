{
 "cells": [
  {
   "cell_type": "code",
   "execution_count": 42,
   "id": "92172ffe-2531-45b1-9b23-5698e4ce7834",
   "metadata": {
    "tags": []
   },
   "outputs": [],
   "source": [
    "import matplotlib\n",
    "import matplotlib.pyplot as plt\n",
    "import matplotlib.path as mpath\n",
    "import matplotlib.patches as mpatches\n",
    "import matplotlib.font_manager as fm\n",
    "\n",
    "import re\n",
    "import os\n",
    "import numpy as np"
   ]
  },
  {
   "cell_type": "code",
   "execution_count": 43,
   "id": "0ef556d0-33d8-4e45-9028-7466263bbf3b",
   "metadata": {
    "tags": []
   },
   "outputs": [],
   "source": [
    "characters = [\"✔\",\"✘\",\"?\",\"✚\",\"⚊\",\"⋯\"]\n",
    "names = [\"IconCheck\",\"IconCross\",\"IconQuestion\",\"IconPlus\",\"IconMinus\",\"IconEllipsis\"]\n",
    "fonts = [None, None, r\"D:\\Seafile\\Personal\\projects\\decksterity\\assets\\generators\\ariblk.ttf\", None, r\"D:\\Seafile\\Personal\\projects\\decksterity\\assets\\generators\\NotoSansSymbols2-Regular.ttf\", None]"
   ]
  },
  {
   "cell_type": "code",
   "execution_count": 44,
   "id": "1a7ffb07-c512-4995-8f23-d35f555628e1",
   "metadata": {
    "tags": []
   },
   "outputs": [],
   "source": [
    "font_path = r\"D:\\Seafile\\Personal\\projects\\decksterity\\assets\\generators\\arial.ttf\"\n",
    "font = fm.FontProperties(fname=font_path)"
   ]
  },
  {
   "cell_type": "code",
   "execution_count": 45,
   "id": "8122b0d4-f781-453b-b84e-6f3680e9d3d3",
   "metadata": {
    "tags": []
   },
   "outputs": [],
   "source": [
    "for char, name, font_name in zip(characters, names, fonts):\n",
    "    fig, ax = plt.subplots(figsize=(1, 1), dpi=300)\n",
    "\n",
    "    font = fm.FontProperties(fname=font_name) if font_name else font_name\n",
    "    \n",
    "    ax.text(0.5, 0.5, char, fontsize=200, fontproperties=font, ha='center', va='center')\n",
    "    # ax.text(0.5, 0.5, char, fontsize=200, ha='center', va='center')\n",
    "    ax.set_xlim(0, 1)\n",
    "    ax.set_ylim(0, 1)\n",
    "    ax.axis('off')\n",
    "    plt.subplots_adjust(left=0, right=1, top=1, bottom=0)\n",
    "\n",
    "    filename = os.path.join(\"..\", f\"{name}.png\")\n",
    "    \n",
    "    # plt.show()\n",
    "    fig.savefig(filename, dpi=300, transparent=True, bbox_inches='tight', pad_inches=0)\n",
    "    plt.close(fig)"
   ]
  },
  {
   "cell_type": "code",
   "execution_count": 46,
   "id": "fcf68ad5-015f-44a2-9fa5-7aefd06bb071",
   "metadata": {
    "tags": []
   },
   "outputs": [],
   "source": [
    "from PIL import Image\n",
    "import os\n",
    "\n",
    "def autocrop_image(path_in, path_out=None):\n",
    "    with Image.open(path_in) as im:\n",
    "        im = im.convert(\"RGBA\")  # Ensure alpha channel\n",
    "        bbox = im.getbbox()\n",
    "        if bbox:\n",
    "            cropped = im.crop(bbox)\n",
    "            path_out = path_out or path_in\n",
    "            cropped.save(path_out)\n",
    "\n",
    "for name in names:\n",
    "    autocrop_image(f\"../{name}.png\")"
   ]
  }
 ],
 "metadata": {
  "kernelspec": {
   "display_name": "Python 3 (ipykernel)",
   "language": "python",
   "name": "python3"
  },
  "language_info": {
   "codemirror_mode": {
    "name": "ipython",
    "version": 3
   },
   "file_extension": ".py",
   "mimetype": "text/x-python",
   "name": "python",
   "nbconvert_exporter": "python",
   "pygments_lexer": "ipython3",
   "version": "3.10.9"
  }
 },
 "nbformat": 4,
 "nbformat_minor": 5
}
